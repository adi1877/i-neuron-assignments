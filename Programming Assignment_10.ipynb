{
 "cells": [
  {
   "cell_type": "markdown",
   "id": "3dcb940f",
   "metadata": {},
   "source": [
    "## Python Basic Programming Assignment 10"
   ]
  },
  {
   "cell_type": "markdown",
   "id": "6720790a",
   "metadata": {},
   "source": [
    "### 1. Write a Python program to find sum of elements in list?"
   ]
  },
  {
   "cell_type": "code",
   "execution_count": 2,
   "id": "c34b3a59-1ff3-40df-94f3-400ee4b8d599",
   "metadata": {},
   "outputs": [
    {
     "name": "stdout",
     "output_type": "stream",
     "text": [
      "Sum of numbers in list is 15\n"
     ]
    }
   ],
   "source": [
    "list1 = [1,2,3,4,5]\n",
    "\n",
    "sum = 0\n",
    "for i in list1:\n",
    "    sum = sum+i\n",
    "\n",
    "print('Sum of numbers in list is',sum)"
   ]
  },
  {
   "cell_type": "markdown",
   "id": "fe1137c3",
   "metadata": {},
   "source": [
    "### 2. Write a Python program to  Multiply all numbers in the list?"
   ]
  },
  {
   "cell_type": "code",
   "execution_count": 5,
   "id": "e5abcb4f-81fc-4e84-a07c-1dddb6aadc14",
   "metadata": {},
   "outputs": [
    {
     "name": "stdout",
     "output_type": "stream",
     "text": [
      "Multiplication of numbers in list is 120\n"
     ]
    }
   ],
   "source": [
    "list1 = [1,2,3,4,5]\n",
    "\n",
    "prod = 1\n",
    "for i in list1:\n",
    "    prod = prod*i\n",
    "\n",
    "print('Multiplication of numbers in list is',prod)"
   ]
  },
  {
   "cell_type": "markdown",
   "id": "078681db",
   "metadata": {},
   "source": [
    "### 3. Write a Python program to find smallest number in a list?"
   ]
  },
  {
   "cell_type": "code",
   "execution_count": 15,
   "id": "356d6928-7dda-4f41-9e4d-d4d2199d1675",
   "metadata": {},
   "outputs": [
    {
     "name": "stdout",
     "output_type": "stream",
     "text": [
      "The smallest number in the list is: 1\n"
     ]
    }
   ],
   "source": [
    "numbers = [3, 1, 4, 1, 5, 9, 2, 6, 5, 3, 5]\n",
    "\n",
    "smallest_number = numbers[0] \n",
    "\n",
    "for num in numbers:\n",
    "    if num < smallest_number:\n",
    "        smallest_number = num\n",
    "\n",
    "print(f\"The smallest number in the list is: {smallest_number}\")\n"
   ]
  },
  {
   "cell_type": "markdown",
   "id": "12b04397",
   "metadata": {},
   "source": [
    "### 4. Write a Python program to find largest number in a list?"
   ]
  },
  {
   "cell_type": "code",
   "execution_count": 16,
   "id": "330d64d0-a82a-431d-938b-371d13bc633b",
   "metadata": {},
   "outputs": [
    {
     "name": "stdout",
     "output_type": "stream",
     "text": [
      "The greatest number in the list is: 9\n"
     ]
    }
   ],
   "source": [
    "numbers = [3, 1, 4, 1, 5, 9, 2, 6, 5, 3, 5]\n",
    "\n",
    "greatest_number = numbers[0] \n",
    "\n",
    "for num in numbers:\n",
    "    if num > greatest_number:\n",
    "       greatest_number = num\n",
    "\n",
    "print(f\"The greatest number in the list is: {greatest_number}\")\n"
   ]
  },
  {
   "cell_type": "markdown",
   "id": "86442b51",
   "metadata": {},
   "source": [
    "### 5. Write a Python program to find second largest number in a list?"
   ]
  },
  {
   "cell_type": "code",
   "execution_count": 17,
   "id": "2eb64f0d-cf57-45c6-b38c-33f75ead32ab",
   "metadata": {},
   "outputs": [
    {
     "name": "stdout",
     "output_type": "stream",
     "text": [
      "The second largest number in the list is: 6\n"
     ]
    }
   ],
   "source": [
    "def find_second_largest(lst):\n",
    "    if len(lst) < 2:\n",
    "        return None  \n",
    "\n",
    "    max_value = lst[0]\n",
    "    for num in lst:\n",
    "        if num > max_value:\n",
    "            max_value = num\n",
    "\n",
    "    lst.remove(max_value)\n",
    "\n",
    "    second_largest = lst[0]\n",
    "    for num in lst:\n",
    "        if num > second_largest:\n",
    "            second_largest = num\n",
    "\n",
    "    return second_largest\n",
    "\n",
    "numbers = [3, 1, 4, 1, 5, 9, 2, 6, 5, 3, 5]\n",
    "second_largest_number = find_second_largest(numbers)\n",
    "\n",
    "if second_largest_number is not None:\n",
    "    print(f\"The second largest number in the list is: {second_largest_number}\")\n",
    "else:\n",
    "    print(\"The list does not have a second largest number.\")\n"
   ]
  },
  {
   "cell_type": "markdown",
   "id": "10964d7d",
   "metadata": {},
   "source": [
    "### 6. Write a Python program to find N largest elements from a list?"
   ]
  },
  {
   "cell_type": "code",
   "execution_count": 22,
   "id": "3907659b-cbf2-41db-a1f9-48ddc0083475",
   "metadata": {},
   "outputs": [
    {
     "name": "stdin",
     "output_type": "stream",
     "text": [
      "Enter nth number: 1\n"
     ]
    },
    {
     "name": "stdout",
     "output_type": "stream",
     "text": [
      "The 1th largest number in the list is: 9\n"
     ]
    }
   ],
   "source": [
    "def find_nth_largest(lst, n):\n",
    "    if len(lst) < n:\n",
    "        return None  \n",
    "\n",
    "    unique_numbers = set(lst)  \n",
    "    if n > len(unique_numbers):\n",
    "        return None \n",
    "\n",
    "    sorted_unique_numbers = sorted(unique_numbers, reverse=True)\n",
    "\n",
    "    nth_largest = sorted_unique_numbers[n - 1]\n",
    "    return nth_largest\n",
    "\n",
    "numbers = [3, 1, 4, 1, 5, 9, 2, 6, 5, 3, 5]\n",
    "n = int(input('Enter nth number:'))  \n",
    "\n",
    "nth_largest_number = find_nth_largest(numbers, n)\n",
    "\n",
    "if nth_largest_number is not None:\n",
    "    print(f\"The {n}th largest number in the list is: {nth_largest_number}\")\n",
    "else:\n",
    "    print(f\"The list does not have enough unique elements to find the {n}th largest number.\")\n"
   ]
  },
  {
   "cell_type": "markdown",
   "id": "2f1a1e98",
   "metadata": {},
   "source": [
    "### 7. Write a Python program to print even numbers in a list?"
   ]
  },
  {
   "cell_type": "code",
   "execution_count": 11,
   "id": "8600f10f-159d-47fc-8ebf-23b4d552000d",
   "metadata": {},
   "outputs": [
    {
     "name": "stdout",
     "output_type": "stream",
     "text": [
      "Given list :  [1, 2, 3, 4, 5]\n",
      "Even numbers in list are :  [2, 4]\n"
     ]
    }
   ],
   "source": [
    "list1 = [1,2,3,4,5]\n",
    "\n",
    "print('Given list : ',list1)\n",
    "even=[]\n",
    "\n",
    "for i in list1:\n",
    "   if i%2==0:\n",
    "       even.append(i)\n",
    "\n",
    "\n",
    "print('Even numbers in list are : ' , even)\n"
   ]
  },
  {
   "cell_type": "markdown",
   "id": "989bb324",
   "metadata": {},
   "source": [
    "### 8. Write a Python program to print odd numbers in a List?"
   ]
  },
  {
   "cell_type": "code",
   "execution_count": 12,
   "id": "3cce7eb0-7317-4fc5-8190-963f7721e26f",
   "metadata": {},
   "outputs": [
    {
     "name": "stdout",
     "output_type": "stream",
     "text": [
      "Given list :  [1, 2, 3, 4, 5]\n",
      "Even numbers in list are :  [1, 3, 5]\n"
     ]
    }
   ],
   "source": [
    "list1 = [1,2,3,4,5]\n",
    "\n",
    "print('Given list : ',list1)\n",
    "odd=[]\n",
    "\n",
    "for i in list1:\n",
    "   if i%2!=0:\n",
    "       odd.append(i)\n",
    "\n",
    "\n",
    "print('Even numbers in list are : ' , odd)\n"
   ]
  },
  {
   "cell_type": "markdown",
   "id": "185b7b13",
   "metadata": {},
   "source": [
    "### 9. Write a Python program to Remove empty List from List?"
   ]
  },
  {
   "cell_type": "code",
   "execution_count": 19,
   "id": "20e137a9-3223-48fe-8f39-67f39fab8188",
   "metadata": {},
   "outputs": [
    {
     "name": "stdout",
     "output_type": "stream",
     "text": [
      "The list after removing empty lists: [[1, 2, 3], [4, 5], [6, 7, 8]]\n"
     ]
    }
   ],
   "source": [
    "def remove_empty_lists(input_list):\n",
    "    return [lst for lst in input_list if lst]\n",
    "\n",
    "# Example usage\n",
    "nested_list = [[1, 2, 3], [], [4, 5], [], [6, 7, 8], []]\n",
    "\n",
    "filtered_list = remove_empty_lists(nested_list)\n",
    "\n",
    "print(f\"The list after removing empty lists: {filtered_list}\")\n"
   ]
  },
  {
   "cell_type": "markdown",
   "id": "278cfacc",
   "metadata": {},
   "source": [
    "### 10. Write a Python program to Cloning or Copying a list?"
   ]
  },
  {
   "cell_type": "code",
   "execution_count": 20,
   "id": "49ae40ce-01e1-49aa-964e-d8d269f16e19",
   "metadata": {},
   "outputs": [
    {
     "name": "stdout",
     "output_type": "stream",
     "text": [
      "Original List: [1, 2, 3, 4, 5]\n",
      "Cloned List: [1, 2, 3, 4, 5]\n"
     ]
    }
   ],
   "source": [
    "original_list = [1, 2, 3, 4, 5]\n",
    "\n",
    "cloned_list = original_list.copy()\n",
    "\n",
    "print(\"Original List:\", original_list)\n",
    "print(\"Cloned List:\", cloned_list)\n"
   ]
  },
  {
   "cell_type": "markdown",
   "id": "b359bedf",
   "metadata": {},
   "source": [
    "### 11. Write a Python program to Count occurrences of an element in a list?"
   ]
  },
  {
   "cell_type": "code",
   "execution_count": 14,
   "id": "6e622244-e8ec-4cba-bd0f-60063898057e",
   "metadata": {},
   "outputs": [
    {
     "data": {
      "text/plain": [
       "{1: 1, 2: 1, 3: 1, 4: 3, 5: 1}"
      ]
     },
     "execution_count": 14,
     "metadata": {},
     "output_type": "execute_result"
    }
   ],
   "source": [
    "list1 = [1,2,3,4,4,4,5]\n",
    "\n",
    "dict_count = { }\n",
    "\n",
    "for num in list1:\n",
    "    if num in dict_count.keys():\n",
    "        dict_count[num]+=1\n",
    "    else:\n",
    "        dict_count[num] = 1\n",
    "\n",
    "dict_count"
   ]
  }
 ],
 "metadata": {
  "kernelspec": {
   "display_name": "Python 3 (ipykernel)",
   "language": "python",
   "name": "python3"
  },
  "language_info": {
   "codemirror_mode": {
    "name": "ipython",
    "version": 3
   },
   "file_extension": ".py",
   "mimetype": "text/x-python",
   "name": "python",
   "nbconvert_exporter": "python",
   "pygments_lexer": "ipython3",
   "version": "3.11.4"
  }
 },
 "nbformat": 4,
 "nbformat_minor": 5
}
