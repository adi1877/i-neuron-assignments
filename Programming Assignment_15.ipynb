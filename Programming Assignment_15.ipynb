{
 "cells": [
  {
   "cell_type": "markdown",
   "id": "7df6e6a0",
   "metadata": {},
   "source": [
    "## Python Basic Programming Assignment - 15\n",
    "-------------------"
   ]
  },
  {
   "cell_type": "markdown",
   "id": "e2ad2fcc-f30a-49fe-91bf-16686de150e3",
   "metadata": {},
   "source": [
    "### 1. Please write a program using generator to print the numbers which can be divisible by 5 and 7 between 0 and n in comma separated form while n is input by console."
   ]
  },
  {
   "cell_type": "code",
   "execution_count": 28,
   "id": "623c1ee9-981e-4297-a26b-c7f54b070521",
   "metadata": {},
   "outputs": [
    {
     "name": "stdin",
     "output_type": "stream",
     "text": [
      "Enter a number :  78\n"
     ]
    },
    {
     "name": "stdout",
     "output_type": "stream",
     "text": [
      "--------------------------\n",
      "Numbers divisible by 5 and 7 between 0 and 78 are :\n",
      "0, 35, 70\n"
     ]
    }
   ],
   "source": [
    "l1 = []\r\n",
    "class div:\r\n",
    "    def __init__(self,n):\r\n",
    "        self.n = n\r\n",
    "    def divbyfs(self):\r\n",
    "        for num in range(0,n+1):\r\n",
    "            if (num%5==0) and (num%7==0) :\r\n",
    "               l1.append(num)\r\n",
    "        print(', '.join(str(num) for num in l1))\r\n",
    "n = int(input('Enter a number : '))\r\n",
    "print('--------------------------')\r\n",
    "print(f'Numbers divisible by 5 and 7 between 0 and {n} are :')\r\n",
    "obj = div(n)\r\n",
    "obj.divbyfs()"
   ]
  },
  {
   "cell_type": "markdown",
   "id": "9ab6f572-3256-4372-befc-94070627f03d",
   "metadata": {},
   "source": [
    "\n",
    "### 2. Please write a program using generator to print the even numbers between 0 and n in comma separated form while n is input by console."
   ]
  },
  {
   "cell_type": "code",
   "execution_count": 29,
   "id": "0ca71e18-c5e2-4a88-9cda-653904fef58f",
   "metadata": {},
   "outputs": [
    {
     "name": "stdin",
     "output_type": "stream",
     "text": [
      "Enter a number :  56\n"
     ]
    },
    {
     "name": "stdout",
     "output_type": "stream",
     "text": [
      "--------------------------\n",
      "Even number between 0 and 56 are :\n",
      "0, 2, 4, 6, 8, 10, 12, 14, 16, 18, 20, 22, 24, 26, 28, 30, 32, 34, 36, 38, 40, 42, 44, 46, 48, 50, 52, 54, 56\n"
     ]
    }
   ],
   "source": [
    "l1 = []\n",
    "\n",
    "class no:\n",
    "    def __init__(self,n):\n",
    "        self.n = n\n",
    "    def even(self):\n",
    "        for num in range(0,n+1):\n",
    "            if (num%2==0):\n",
    "               l1.append(num)\n",
    "        print(', '.join(str(num) for num in l1))\n",
    "n = int(input('Enter a number : '))\n",
    "print('--------------------------')\n",
    "print(f'Even number between 0 and {n} are :')\n",
    "obj = no(n)\n",
    "obj.even()"
   ]
  },
  {
   "cell_type": "markdown",
   "id": "35b72559",
   "metadata": {},
   "source": [
    "### 3. Please write a program using list comprehension to print the Fibonacci Sequence in comma separated form with a given n input by console."
   ]
  },
  {
   "cell_type": "code",
   "execution_count": 30,
   "id": "7ad609a9-e980-421d-8b1c-562b59c43fef",
   "metadata": {},
   "outputs": [
    {
     "ename": "IndentationError",
     "evalue": "unexpected indent (3314767228.py, line 2)",
     "output_type": "error",
     "traceback": [
      "\u001b[1;36m  Cell \u001b[1;32mIn[30], line 2\u001b[1;36m\u001b[0m\n\u001b[1;33m    fib_sequence = [0, 1] + [fib_sequence[i-1] + fib_sequence[i-2] for i in range(2, n)]\u001b[0m\n\u001b[1;37m    ^\u001b[0m\n\u001b[1;31mIndentationError\u001b[0m\u001b[1;31m:\u001b[0m unexpected indent\n"
     ]
    }
   ],
   "source": [
    "def fibonacci_sequence(n):e\r\n",
    "    fib_sequence = [0, 1] + [fib_sequence[i-1] + fib_sequence[i-2] for i in range(2, n)]\r\n",
    "    return fib_sequece\r\n",
    "\r\n",
    "def main():\r\n",
    "    try:\r\n",
    "        n = int(input(\"Enter the value of n for Fibonacci sequence: \"))\r\n",
    "        if n < 0:\r\n",
    "            raise ValueError(\"Please enter a non-negative integer.\")\r\n",
    "\r\n",
    "        result = fibonacci_sequence(n)\r\n",
    "        print(f\"Fibonacci sequence up to term {n}:\", end=\" \")\r\n",
    "        print(*result, sep=\", \")\r\n",
    "\r\n",
    "    except ValueError as e:\r\n",
    "        print(\"Error:\", e)\r\n",
    "\r\n",
    "if __name__ == \"__min__\":\r\n",
    "    main()\r\n"
   ]
  },
  {
   "cell_type": "markdown",
   "id": "dea0be0f",
   "metadata": {},
   "source": [
    "\n",
    "### 4. Assuming that we have some email addresses in the \"username@companyname.com\" format, please write program to print the user name of a given email address. Both user names and company names are composed of letters only."
   ]
  },
  {
   "cell_type": "code",
   "execution_count": 23,
   "id": "5d7311de-4854-4604-8683-cf57d302f13f",
   "metadata": {},
   "outputs": [
    {
     "name": "stdin",
     "output_type": "stream",
     "text": [
      "Enter an email address (username@companyname.com):  santoshzaware@findingi.com\n"
     ]
    },
    {
     "name": "stdout",
     "output_type": "stream",
     "text": [
      "User name: santoshzaware\n"
     ]
    }
   ],
   "source": [
    "def extract_username(email):\n",
    "    username, domain = email.split('@', 1)\n",
    "    return username\n",
    "\n",
    "def main():\n",
    "    try:\n",
    "        email = input(\"Enter an email address (username@companyname.com): \")\n",
    "\n",
    "        if '@' not in email or '.' not in email:\n",
    "            raise ValueError(\"Invalid email address format.\")\n",
    "        \n",
    "        username = extract_username(email)\n",
    "        print(\"User name:\", username)\n",
    "\n",
    "    except ValueError as e:\n",
    "        print(\"Error:\", e)\n",
    "\n",
    "if __name__ == \"__main__\":\n",
    "    main()"
   ]
  },
  {
   "cell_type": "markdown",
   "id": "c8e7f79f-72a7-43e8-af13-c85ab8f0c09b",
   "metadata": {},
   "source": [
    "\n",
    "### 5. Define a class named Shape and its subclass Square. The Square class has an init function which takes a length as argument. Both classes have a area function which can print the area of the shape where Shape's area is 0 by default."
   ]
  },
  {
   "cell_type": "code",
   "execution_count": 34,
   "id": "9715401d-9adb-4d41-ba7c-aeaf23466227",
   "metadata": {},
   "outputs": [
    {
     "name": "stdout",
     "output_type": "stream",
     "text": [
      "Area of generic shape: 0\n",
      "Area of square with side length 5: 25\n"
     ]
    }
   ],
   "source": [
    "class Shape:\n",
    "    def __init__(self):\n",
    "        pass\n",
    "\n",
    "    def area(self):\n",
    "        return 0\n",
    "\n",
    "class Square(Shape):\n",
    "    def __init__(self, length):\n",
    "        super().__init__()\n",
    "        self.length = length\n",
    "    def area(self):\n",
    "        return self.length ** 2\n",
    "\n",
    "def main():\n",
    "    shape = Shape()\n",
    "    print(\"Area of generic shape:\", shape.area())\n",
    "    square = Square(5)\n",
    "    print(\"Area of square with side length 5:\", square.area())\n",
    "\n",
    "if __name__ == \"__main__\":\n",
    "    main()"
   ]
  },
  {
   "cell_type": "code",
   "execution_count": null,
   "id": "955bd761-e6a3-4a4e-ae3e-83ab70a4eb65",
   "metadata": {},
   "outputs": [],
   "source": []
  },
  {
   "cell_type": "code",
   "execution_count": 36,
   "id": "afd9c778-28be-462d-9f96-087cff18f42c",
   "metadata": {},
   "outputs": [
    {
     "name": "stdin",
     "output_type": "stream",
     "text": [
      "Enter the value of n for Fibonacci sequence:  78\n"
     ]
    },
    {
     "ename": "UnboundLocalError",
     "evalue": "cannot access local variable 'fib_sequence' where it is not associated with a value",
     "output_type": "error",
     "traceback": [
      "\u001b[1;31m---------------------------------------------------------------------------\u001b[0m",
      "\u001b[1;31mUnboundLocalError\u001b[0m                         Traceback (most recent call last)",
      "Cell \u001b[1;32mIn[36], line 18\u001b[0m\n\u001b[0;32m     15\u001b[0m         \u001b[38;5;28mprint\u001b[39m(\u001b[38;5;124m\"\u001b[39m\u001b[38;5;124mError:\u001b[39m\u001b[38;5;124m\"\u001b[39m, e)\n\u001b[0;32m     17\u001b[0m \u001b[38;5;28;01mif\u001b[39;00m \u001b[38;5;18m__name__\u001b[39m \u001b[38;5;241m==\u001b[39m \u001b[38;5;124m\"\u001b[39m\u001b[38;5;124m__main__\u001b[39m\u001b[38;5;124m\"\u001b[39m:\n\u001b[1;32m---> 18\u001b[0m     \u001b[43mmain\u001b[49m\u001b[43m(\u001b[49m\u001b[43m)\u001b[49m\n",
      "Cell \u001b[1;32mIn[36], line 10\u001b[0m, in \u001b[0;36mmain\u001b[1;34m()\u001b[0m\n\u001b[0;32m      7\u001b[0m \u001b[38;5;28;01mif\u001b[39;00m n \u001b[38;5;241m<\u001b[39m \u001b[38;5;241m0\u001b[39m:\n\u001b[0;32m      8\u001b[0m     \u001b[38;5;28;01mraise\u001b[39;00m \u001b[38;5;167;01mValueError\u001b[39;00m(\u001b[38;5;124m\"\u001b[39m\u001b[38;5;124mPlease enter a non-negative integer.\u001b[39m\u001b[38;5;124m\"\u001b[39m)\n\u001b[1;32m---> 10\u001b[0m result \u001b[38;5;241m=\u001b[39m \u001b[43mfibonacci_sequence\u001b[49m\u001b[43m(\u001b[49m\u001b[43mn\u001b[49m\u001b[43m)\u001b[49m\n\u001b[0;32m     11\u001b[0m \u001b[38;5;28mprint\u001b[39m(\u001b[38;5;124mf\u001b[39m\u001b[38;5;124m\"\u001b[39m\u001b[38;5;124mFibonacci sequence up to term \u001b[39m\u001b[38;5;132;01m{\u001b[39;00mn\u001b[38;5;132;01m}\u001b[39;00m\u001b[38;5;124m:\u001b[39m\u001b[38;5;124m\"\u001b[39m, end\u001b[38;5;241m=\u001b[39m\u001b[38;5;124m\"\u001b[39m\u001b[38;5;124m \u001b[39m\u001b[38;5;124m\"\u001b[39m)\n\u001b[0;32m     12\u001b[0m \u001b[38;5;28mprint\u001b[39m(\u001b[38;5;241m*\u001b[39mresult, sep\u001b[38;5;241m=\u001b[39m\u001b[38;5;124m\"\u001b[39m\u001b[38;5;124m, \u001b[39m\u001b[38;5;124m\"\u001b[39m)\n",
      "Cell \u001b[1;32mIn[36], line 2\u001b[0m, in \u001b[0;36mfibonacci_sequence\u001b[1;34m(n)\u001b[0m\n\u001b[0;32m      1\u001b[0m \u001b[38;5;28;01mdef\u001b[39;00m \u001b[38;5;21mfibonacci_sequence\u001b[39m(n):\n\u001b[1;32m----> 2\u001b[0m     fib_sequence \u001b[38;5;241m=\u001b[39m [\u001b[38;5;241m0\u001b[39m, \u001b[38;5;241m1\u001b[39m] \u001b[38;5;241m+\u001b[39m [\u001b[43mfib_sequence\u001b[49m[i\u001b[38;5;241m-\u001b[39m\u001b[38;5;241m1\u001b[39m] \u001b[38;5;241m+\u001b[39m fib_sequence[i\u001b[38;5;241m-\u001b[39m\u001b[38;5;241m2\u001b[39m] \u001b[38;5;28;01mfor\u001b[39;00m i \u001b[38;5;129;01min\u001b[39;00m \u001b[38;5;28mrange\u001b[39m(\u001b[38;5;241m2\u001b[39m, n)]\n\u001b[0;32m      3\u001b[0m     \u001b[38;5;28;01mreturn\u001b[39;00m fib_sequence\n",
      "\u001b[1;31mUnboundLocalError\u001b[0m: cannot access local variable 'fib_sequence' where it is not associated with a value"
     ]
    }
   ],
   "source": []
  },
  {
   "cell_type": "code",
   "execution_count": null,
   "id": "8ad49f21-f602-4bf9-9117-7af950aba6c9",
   "metadata": {},
   "outputs": [],
   "source": []
  }
 ],
 "metadata": {
  "kernelspec": {
   "display_name": "Python 3 (ipykernel)",
   "language": "python",
   "name": "python3"
  },
  "language_info": {
   "codemirror_mode": {
    "name": "ipython",
    "version": 3
   },
   "file_extension": ".py",
   "mimetype": "text/x-python",
   "name": "python",
   "nbconvert_exporter": "python",
   "pygments_lexer": "ipython3",
   "version": "3.12.0"
  }
 },
 "nbformat": 4,
 "nbformat_minor": 5
}
