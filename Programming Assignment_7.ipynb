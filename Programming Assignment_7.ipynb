{
 "cells": [
  {
   "cell_type": "markdown",
   "id": "35297a20",
   "metadata": {},
   "source": [
    "## Programming Basic Assignment 7"
   ]
  },
  {
   "cell_type": "markdown",
   "id": "27349114",
   "metadata": {},
   "source": [
    "### 1. Write a Python Program to find sum of array?"
   ]
  },
  {
   "cell_type": "code",
   "execution_count": 4,
   "id": "3e7220fb-9e2e-453a-bfe7-e7601d62af43",
   "metadata": {},
   "outputs": [
    {
     "name": "stdout",
     "output_type": "stream",
     "text": [
      "The sum of all the elements[1, 5, 6, 8, 9] is : 29\n"
     ]
    }
   ],
   "source": [
    "def sum_array(arr):\n",
    "    array_sum=sum(arr)\n",
    "    return array_sum\n",
    "    \n",
    "my_array = [1,5,6,8,9]\n",
    "result =sum_array(my_array)\n",
    "print(f\"The sum of all the elements{my_array} is : {result}\")"
   ]
  },
  {
   "cell_type": "markdown",
   "id": "171a980d",
   "metadata": {},
   "source": [
    "### 2. Write a Python Program to find largest element in an array?\n"
   ]
  },
  {
   "cell_type": "code",
   "execution_count": 9,
   "id": "207a4f51-f80d-424e-a135-33ff3769af38",
   "metadata": {},
   "outputs": [
    {
     "name": "stdout",
     "output_type": "stream",
     "text": [
      "The sum of all the elements [3, 5, 6, 8, 9] is : 9\n"
     ]
    }
   ],
   "source": [
    "def max_array(arr):\n",
    "    array_max=max(arr)\n",
    "    \n",
    "    return array_max\n",
    "\n",
    "my_array = [3,5,6,8,9]\n",
    "result = max_array(my_array)\n",
    "print(f\"The sum of all the elements {my_array} is : {result}\")"
   ]
  },
  {
   "cell_type": "markdown",
   "id": "21613246",
   "metadata": {},
   "source": [
    "### 3. Write a Python Program for array rotation?"
   ]
  },
  {
   "cell_type": "code",
   "execution_count": 19,
   "id": "559ed2b2-86de-4df9-b0cd-5419e2f22c33",
   "metadata": {},
   "outputs": [
    {
     "name": "stdout",
     "output_type": "stream",
     "text": [
      "Array after is rotation is:  [3, 4, 5, 6, 7, 1, 2]\n"
     ]
    }
   ],
   "source": [
    "def rotate_array(a,d):\n",
    "    temp = []\n",
    "    n=len(a)\n",
    "    for i in range(d,n):\n",
    "        temp.append(a[i])\n",
    "    for i in range (0,d):\n",
    "        temp.append(a[i])\n",
    "    a=temp.copy()\n",
    "    return a\n",
    " \n",
    "arr = [1, 2, 3, 4, 5, 6, 7]\n",
    "print(\"Array after is rotation is: \", end=' ')\n",
    "print(rotate_array(arr, 2))"
   ]
  },
  {
   "cell_type": "markdown",
   "id": "3e52d939",
   "metadata": {},
   "source": [
    "### 4. Write a Python Program to Split the array and add the first part to the end?"
   ]
  },
  {
   "cell_type": "code",
   "execution_count": 22,
   "id": "0a4501b3-6c78-4b49-ab3d-b4da8bae7e11",
   "metadata": {},
   "outputs": [
    {
     "name": "stdout",
     "output_type": "stream",
     "text": [
      "6 52 36 12 10 5 "
     ]
    }
   ],
   "source": [
    "arr = [12, 10, 5, 6, 52, 36]\n",
    "n = len(arr)\n",
    "position = 3\n",
    "x = arr[:position]\n",
    "y = arr[position:]\n",
    "y.extend(x)\n",
    "for i in y:\n",
    "    print(i, end=\" \")"
   ]
  },
  {
   "cell_type": "markdown",
   "id": "aa375779",
   "metadata": {},
   "source": [
    "### 5. Write a Python Program to check if given array is Monotonic?"
   ]
  },
  {
   "cell_type": "code",
   "execution_count": 27,
   "id": "9e645ad3-fcd0-4cd7-b73e-f5f94f2269e8",
   "metadata": {},
   "outputs": [
    {
     "name": "stdout",
     "output_type": "stream",
     "text": [
      "Array is monotonic\n"
     ]
    }
   ],
   "source": [
    "def monotonic(arr):\n",
    "    increasing = decreasing = True\n",
    "\n",
    "    for i in range(len(arr) - 1):\n",
    "        if arr[i] > arr[i + 1]:\n",
    "            increasing = False\n",
    "        elif arr[i] < arr[i + 1]:\n",
    "            decreasing = False\n",
    "\n",
    "    return increasing or decreasing\n",
    "\n",
    "my_arr = [6, 2, 1, -4, -5]\n",
    "result = monotonic(my_arr)\n",
    "\n",
    "if result:\n",
    "    print(\"Array is monotonic\")\n",
    "else:\n",
    "    print(\"Array is not monotonic\")"
   ]
  },
  {
   "cell_type": "code",
   "execution_count": null,
   "id": "80178c11-037e-49e8-b72d-dedecad7c3d7",
   "metadata": {},
   "outputs": [],
   "source": []
  }
 ],
 "metadata": {
  "kernelspec": {
   "display_name": "Python 3 (ipykernel)",
   "language": "python",
   "name": "python3"
  },
  "language_info": {
   "codemirror_mode": {
    "name": "ipython",
    "version": 3
   },
   "file_extension": ".py",
   "mimetype": "text/x-python",
   "name": "python",
   "nbconvert_exporter": "python",
   "pygments_lexer": "ipython3",
   "version": "3.12.0"
  }
 },
 "nbformat": 4,
 "nbformat_minor": 5
}
