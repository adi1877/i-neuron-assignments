{
 "cells": [
  {
   "cell_type": "markdown",
   "id": "47b9bb99",
   "metadata": {},
   "source": [
    "## Programming Assignment_9\n",
    "----------------"
   ]
  },
  {
   "cell_type": "markdown",
   "id": "c725f7a9",
   "metadata": {},
   "source": [
    "### 1. Write a Python program to check if the given number is a Disarium Number?"
   ]
  },
  {
   "cell_type": "code",
   "execution_count": 1,
   "id": "54dd0c0d-1415-42dd-acf4-8a770485a1ca",
   "metadata": {},
   "outputs": [
    {
     "name": "stdin",
     "output_type": "stream",
     "text": [
      "Give the number 89\n"
     ]
    },
    {
     "name": "stdout",
     "output_type": "stream",
     "text": [
      "89 is a Disarium number\n"
     ]
    }
   ],
   "source": [
    "def disarium(number):\n",
    "    num_str = str(number)\n",
    "    sum_disarium = sum(int(digit)**(index + 1) for index, digit in enumerate(num_str))\n",
    "    return sum_disarium == number\n",
    "input_number = int(input(\"Give the number\"))\n",
    "if disarium(input_number):\n",
    "    print(f\"{input_number} is a Disarium number\")\n",
    "else:\n",
    "    print(f\"{input_number} is not a Disarium number\")"
   ]
  },
  {
   "cell_type": "markdown",
   "id": "f0064401",
   "metadata": {},
   "source": [
    "### 2. Write a Python program to print all disarium numbers between 1 to 100?"
   ]
  },
  {
   "cell_type": "code",
   "execution_count": 2,
   "id": "cb9ffb3f-568c-482d-a9ec-f6abcfc3611a",
   "metadata": {},
   "outputs": [
    {
     "name": "stdout",
     "output_type": "stream",
     "text": [
      "Disarium numbers between 1 anbd 100: \n",
      "1\n",
      "2\n",
      "3\n",
      "4\n",
      "5\n",
      "6\n",
      "7\n",
      "8\n",
      "9\n",
      "89\n"
     ]
    }
   ],
   "source": [
    "def disarium(number):\n",
    "    num_str = str(number)\n",
    "    sum_disarium = sum(int(digit)**(index + 1) for index, digit in enumerate(num_str))\n",
    "    return sum_disarium == number\n",
    "    \n",
    "print(\"Disarium numbers between 1 anbd 100: \")\n",
    "for i in range(1, 101):\n",
    "    if disarium(i):\n",
    "        print(i)"
   ]
  },
  {
   "cell_type": "markdown",
   "id": "31df1e4a",
   "metadata": {},
   "source": [
    "### 3. Write a Python program to check if the given number is Happy Number?"
   ]
  },
  {
   "cell_type": "code",
   "execution_count": 3,
   "id": "2b0973be-1721-4515-8830-2a44d2eed475",
   "metadata": {},
   "outputs": [
    {
     "name": "stdin",
     "output_type": "stream",
     "text": [
      "Give the number 19\n"
     ]
    },
    {
     "name": "stdout",
     "output_type": "stream",
     "text": [
      "19 is a Happy number\n"
     ]
    }
   ],
   "source": [
    "def happy_number(n):\n",
    "    while len(str(n)) > 1:\n",
    "        n = sum(int(x)**2 for x in str(n))\n",
    "    return n == 1\n",
    "input_number = int(input(\"Give the number\"))\n",
    "if happy_number(input_number):\n",
    "    print(f\"{input_number} is a Happy number\")\n",
    "else:\n",
    "    print(f\"{input_number} is not a Happy number\")    "
   ]
  },
  {
   "cell_type": "markdown",
   "id": "6d83a9c9-64f8-4a31-b527-5d3a3f62dac5",
   "metadata": {},
   "source": [
    "### 4. Write a Python program to print all happy numbers between 1 and 100?"
   ]
  },
  {
   "cell_type": "code",
   "execution_count": 6,
   "id": "e84a26ad-d1f1-4061-baee-25ec0a8c13be",
   "metadata": {},
   "outputs": [
    {
     "name": "stdout",
     "output_type": "stream",
     "text": [
      "The list of happy numbers between 1 and 100 are : \n",
      "1\n",
      "7\n",
      "10\n",
      "13\n",
      "19\n",
      "23\n",
      "28\n",
      "31\n",
      "32\n",
      "44\n",
      "49\n",
      "68\n",
      "70\n",
      "79\n",
      "82\n",
      "86\n",
      "91\n",
      "94\n",
      "97\n",
      "100\n"
     ]
    }
   ],
   "source": [
    "def happy_num_1_100(num):\n",
    "   remaining = sum_val = 0\n",
    "   while(num > 0):\n",
    "      remaining = num%10\n",
    "      sum_val = sum_val + (remaining*remaining)\n",
    "      num = num//10\n",
    "   return sum_val\n",
    "print(\"The list of happy numbers between 1 and 100 are : \")\n",
    "for i in range(1, 101):\n",
    "   my_result = i\n",
    "   while(my_result != 1 and my_result != 4):\n",
    "      my_result = happy_num_1_100(my_result)\n",
    "   if(my_result == 1):\n",
    "      print(i)"
   ]
  },
  {
   "cell_type": "markdown",
   "id": "6a190ee0",
   "metadata": {},
   "source": [
    "### 5. Write a Python program to determine whether the given number is a Harshad Number?"
   ]
  },
  {
   "cell_type": "code",
   "execution_count": 5,
   "id": "ad50228b-f354-42a3-ab78-6b40ad84ef6a",
   "metadata": {},
   "outputs": [
    {
     "name": "stdin",
     "output_type": "stream",
     "text": [
      "Give the number 24\n"
     ]
    },
    {
     "name": "stdout",
     "output_type": "stream",
     "text": [
      "24 is a Harshad number\n"
     ]
    }
   ],
   "source": [
    "def harshad_number(n):\n",
    "    num=str(n)\n",
    "    sum_n = sum(int(x) for x in str(n))\n",
    "    return (n%sum_n) == 0\n",
    "input_number = int(input(\"Give the number\"))\n",
    "if harshad_number(input_number):\n",
    "    print(f\"{input_number} is a Harshad number\")\n",
    "else:\n",
    "    print(f\"{input_number} is not a Harshad number\")   "
   ]
  },
  {
   "cell_type": "markdown",
   "id": "7a7ea92e",
   "metadata": {},
   "source": [
    "### 6. Write a Python program to print all pronic numbers between 1 and 100?"
   ]
  },
  {
   "cell_type": "code",
   "execution_count": 2,
   "id": "4f961cbe-650d-49d2-8050-4ccdce07f4ae",
   "metadata": {},
   "outputs": [
    {
     "name": "stdout",
     "output_type": "stream",
     "text": [
      "2 6 12 20 30 42 56 72 90 "
     ]
    }
   ],
   "source": [
    "def pronic_number(number):\n",
    "    for i in range(1, int(number**0.5) + 2):\n",
    "        if i * (i + 1) == number:\n",
    "            return True\n",
    "    return False\n",
    "\n",
    "def print_pronic_numbers(limit):\n",
    "    for num in range(1, limit + 1):\n",
    "        if pronic_number(num):\n",
    "            print(num, end=' ')\n",
    "\n",
    "print_pronic_numbers(100)"
   ]
  },
  {
   "cell_type": "code",
   "execution_count": null,
   "id": "49ed91f4-82cb-40cf-9618-80d970d2bbc0",
   "metadata": {},
   "outputs": [],
   "source": []
  }
 ],
 "metadata": {
  "kernelspec": {
   "display_name": "Python 3 (ipykernel)",
   "language": "python",
   "name": "python3"
  },
  "language_info": {
   "codemirror_mode": {
    "name": "ipython",
    "version": 3
   },
   "file_extension": ".py",
   "mimetype": "text/x-python",
   "name": "python",
   "nbconvert_exporter": "python",
   "pygments_lexer": "ipython3",
   "version": "3.12.0"
  }
 },
 "nbformat": 4,
 "nbformat_minor": 5
}
