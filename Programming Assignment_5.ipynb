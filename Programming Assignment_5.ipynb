{
 "cells": [
  {
   "cell_type": "markdown",
   "id": "4ac9602a",
   "metadata": {},
   "source": [
    "## Python Basic Programming Assignment - 5\n",
    "--------------\n"
   ]
  },
  {
   "cell_type": "markdown",
   "id": "fdaeee06",
   "metadata": {},
   "source": [
    "### 1. Write a Python Program to Find LCM?"
   ]
  },
  {
   "cell_type": "code",
   "execution_count": 14,
   "id": "4cd1ad21-debd-4f0c-bbff-b9da2aede998",
   "metadata": {},
   "outputs": [
    {
     "name": "stdin",
     "output_type": "stream",
     "text": [
      "Enter first number:  897\n",
      "Enter second number:  908\n"
     ]
    },
    {
     "name": "stdout",
     "output_type": "stream",
     "text": [
      "LCM of 897 and 908 is: 814476\n"
     ]
    }
   ],
   "source": [
    "def lcm(a, b):\n",
    "    max_num = max(a, b)\n",
    "    multiple = max_num\n",
    "    while True:\n",
    "        if multiple % a == 0 and multiple % b == 0:\n",
    "            return multiple\n",
    "        multiple += max_num  \n",
    "num1 = int(input(\"Enter first number: \"))\n",
    "num2 = int(input(\"Enter second number: \"))\n",
    "result = lcm(num1, num2)\n",
    "print(f\"LCM of {num1} and {num2} is: {result}\")"
   ]
  },
  {
   "cell_type": "markdown",
   "id": "2f459cdf",
   "metadata": {},
   "source": [
    "### 2. Write a Python Program to Find HCF?"
   ]
  },
  {
   "cell_type": "code",
   "execution_count": 2,
   "id": "a9a737ae-742f-45e7-87ad-b33873c607af",
   "metadata": {},
   "outputs": [
    {
     "name": "stdin",
     "output_type": "stream",
     "text": [
      "Enter first number :  45\n",
      "Enter second number :  40\n"
     ]
    },
    {
     "name": "stdout",
     "output_type": "stream",
     "text": [
      "-------------------------\n",
      "HCF of 45 and 40 is 5\n"
     ]
    }
   ],
   "source": [
    "num1 = int(input('Enter first number : '))\n",
    "num2 = int(input('Enter second number : '))\n",
    "fact1 = []\n",
    "fact2 = []\n",
    "print('-------------------------')\n",
    "for i in range(1,num1+1):\n",
    "    if num1%i == 0:\n",
    "        fact1.append(i)\n",
    "for i in range(1,num2+1):\n",
    "    if num2%i == 0:\n",
    "        fact2.append(i)\n",
    "hcf = max(set(fact1).intersection(set(fact2)))\n",
    "print(f'HCF of {num1} and {num2} is {hcf}')"
   ]
  },
  {
   "cell_type": "markdown",
   "id": "00fe474f-4c45-4f86-84c1-cf511e3b7923",
   "metadata": {},
   "source": [
    "### 3. Write a Python Program to Convert Decimal to Binary, Octal and Hexadecimal?"
   ]
  },
  {
   "cell_type": "code",
   "execution_count": 34,
   "id": "c37c4f02-0e61-4425-a211-096b8476c74a",
   "metadata": {},
   "outputs": [
    {
     "name": "stdin",
     "output_type": "stream",
     "text": [
      "Enter a decimal number:  3457\n"
     ]
    },
    {
     "name": "stdout",
     "output_type": "stream",
     "text": [
      "The binary representation of 3457 is: 110110000001\n",
      "The octal representation of 3457 is: 6601\n",
      "The hexadecimal representation of 3457 is: d81\n"
     ]
    }
   ],
   "source": [
    "def convert_to_decimal_nos(decimal_number):\n",
    "    binary_representation = bin(decimal_number)[2:]\n",
    "    octal_representation = oct(decimal_number)[2:]\n",
    "    hexadecimal_representation = hex(decimal_number)[2:]\n",
    "\n",
    "    return binary_representation, octal_representation, hexadecimal_representation\n",
    "\n",
    "decimal_number = int(input(\"Enter a decimal number: \"))\n",
    "\n",
    "binary_result, octal_result, hexadecimal_result = convert_to_decimal_nos(decimal_number)\n",
    "\n",
    "print(f\"The binary representation of {decimal_number} is: {binary_result}\")\n",
    "print(f\"The octal representation of {decimal_number} is: {octal_result}\")\n",
    "print(f\"The hexadecimal representation of {decimal_number} is: {hexadecimal_result}\")"
   ]
  },
  {
   "cell_type": "markdown",
   "id": "2a16c5fd",
   "metadata": {},
   "source": [
    "### 4. Write a Python Program To Find ASCII value of a character?"
   ]
  },
  {
   "cell_type": "code",
   "execution_count": 21,
   "id": "6097d85e-0b94-46f3-bbe2-fcd85175e5d3",
   "metadata": {},
   "outputs": [
    {
     "name": "stdout",
     "output_type": "stream",
     "text": [
      "The ASCII value of the 'A' is 65\n"
     ]
    }
   ],
   "source": [
    "char = \"A\"\n",
    "ascii_value = ord(char)\n",
    "\n",
    "print(f\"The ASCII value of the '{char}' is {ascii_value}\")"
   ]
  },
  {
   "cell_type": "markdown",
   "id": "226778a0",
   "metadata": {},
   "source": [
    "### 5. Write a Python Program to Make a Simple Calculator with 4 basic mathematical operations?"
   ]
  },
  {
   "cell_type": "code",
   "execution_count": 37,
   "id": "dd4a25d6-d0b1-4526-b0b2-ddefd8b3dc40",
   "metadata": {},
   "outputs": [
    {
     "name": "stdin",
     "output_type": "stream",
     "text": [
      "Enter the First Number 67\n",
      "Enter the operator ( +, -, *,/ ) : /\n",
      "Enter the Second Number 6\n"
     ]
    },
    {
     "name": "stdout",
     "output_type": "stream",
     "text": [
      "The output of 67.0 / 6.0 is : 11.166666666666666\n"
     ]
    }
   ],
   "source": [
    "def add(x,y):\n",
    "    return x+y\n",
    "def subtract(x,y):\n",
    "    return x-y\n",
    "def multiply(x,y):\n",
    "    return x*y\n",
    "def divide(x,y):\n",
    "    if y!=0:\n",
    "        return x/y\n",
    "    else:\n",
    "        return \"Cannot perform the opration.\"\n",
    "num1 = float(input(\"Enter the First Number\"))\n",
    "operator = input(\"Enter the operator ( +, -, *,/ ) :\")\n",
    "num2 = float(input(\"Enter the Second Number\"))\n",
    "\n",
    "if operator == '+':\n",
    "    result=add(num1, num2)\n",
    "elif operator == '-':\n",
    "    result=subtract(num1, num2)    \n",
    "elif operator == '*':\n",
    "    result=multiply(num1, num2) \n",
    "elif operator == '/':\n",
    "    result=divide(num1, num2) \n",
    "else:\n",
    "    print(\"Invalid operators entered\")\n",
    "print(f\"The output of {num1} {operator} {num2} is : {result}\")    "
   ]
  },
  {
   "cell_type": "code",
   "execution_count": null,
   "id": "0d64655e-6742-49d9-91be-28a45da1e121",
   "metadata": {},
   "outputs": [],
   "source": []
  }
 ],
 "metadata": {
  "kernelspec": {
   "display_name": "Python 3 (ipykernel)",
   "language": "python",
   "name": "python3"
  },
  "language_info": {
   "codemirror_mode": {
    "name": "ipython",
    "version": 3
   },
   "file_extension": ".py",
   "mimetype": "text/x-python",
   "name": "python",
   "nbconvert_exporter": "python",
   "pygments_lexer": "ipython3",
   "version": "3.12.0"
  }
 },
 "nbformat": 4,
 "nbformat_minor": 5
}
