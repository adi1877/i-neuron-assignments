{
 "cells": [
  {
   "cell_type": "markdown",
   "id": "62fd0c8e",
   "metadata": {},
   "source": [
    "# Python Programming Basic Assignment 13"
   ]
  },
  {
   "cell_type": "markdown",
   "id": "ed4a3c0b",
   "metadata": {},
   "source": [
    "\n",
    "### 1. Write a program that calculates and prints the value according to the given formula:\n",
    "Q = Square root of [(2 C D)/H]\n",
    "\n",
    "Following are the fixed values of C and H:\n",
    "\n",
    "C is 50. H is 30.\n",
    "\n",
    "D is the variable whose values should be input to your program in a comma-separated sequence.\n",
    "\n",
    "Example\n",
    "\n",
    "Let us assume the following comma separated input sequence is given to the program:\n",
    "\n",
    "100,150,180\n",
    "\n",
    "The output of the program should be:\n",
    "\n",
    "18,22,24"
   ]
  },
  {
   "cell_type": "code",
   "execution_count": 2,
   "id": "0ecbe6f5-bd90-40ae-bbfe-0882e98fc521",
   "metadata": {},
   "outputs": [
    {
     "name": "stdin",
     "output_type": "stream",
     "text": [
      "Enter a comma-separated sequence of D values:  100,150,180\n"
     ]
    },
    {
     "name": "stdout",
     "output_type": "stream",
     "text": [
      "18,22,24\n"
     ]
    }
   ],
   "source": [
    "import math\n",
    "\n",
    "C = 50\n",
    "H = 30\n",
    "\n",
    "def calculate_Q(D):\n",
    "    return int(math.sqrt((2 * C * D) / H))\n",
    "\n",
    "input_sequence = input(\"Enter a comma-separated sequence of D values: \")\n",
    "\n",
    "D_values = map(int, input_sequence.split(','))\n",
    "\n",
    "result = [calculate_Q(D) for D in D_values]\n",
    "\n",
    "print(','.join(map(str, result)))"
   ]
  },
  {
   "cell_type": "markdown",
   "id": "ed37b6ed",
   "metadata": {},
   "source": [
    "### 2. Write a program which takes 2 digits, X,Y as input and generates a 2-dimensional array. The element value in the i-th row and j-th column of the array should be i*j."
   ]
  },
  {
   "cell_type": "code",
   "execution_count": 3,
   "id": "28a0b66c-e3d1-4d1b-9d99-3fa47be0831a",
   "metadata": {},
   "outputs": [
    {
     "name": "stdin",
     "output_type": "stream",
     "text": [
      "Enter number of rows : 6\n",
      "Enter number of columns : 8\n"
     ]
    },
    {
     "name": "stdout",
     "output_type": "stream",
     "text": [
      "----------------------------------------------------------\n",
      "[[1, 2, 3, 4, 5, 6, 7, 8], [2, 4, 6, 8, 10, 12, 14, 16], [3, 6, 9, 12, 15, 18, 21, 24], [4, 8, 12, 16, 20, 24, 28, 32], [5, 10, 15, 20, 25, 30, 35, 40], [6, 12, 18, 24, 30, 36, 42, 48]]\n"
     ]
    }
   ],
   "source": [
    "x = int(input('Enter number of rows :'))\n",
    "y = int(input('Enter number of columns :'))\n",
    "\n",
    "two_d_array = [[(x+1)*(y+1) for y in range(y)] for x in range(x)]\n",
    "\n",
    "print('---------------------------------------------------------')\n",
    "print(two_d_array)"
   ]
  },
  {
   "cell_type": "markdown",
   "id": "bc7f977b",
   "metadata": {},
   "source": [
    "### 3. Write a program that accepts a comma separated sequence of words as input and prints the words in a comma-separated sequence after sorting them alphabetically."
   ]
  },
  {
   "cell_type": "code",
   "execution_count": 22,
   "id": "53f440f8-af0a-4010-b695-0263ed6a815c",
   "metadata": {},
   "outputs": [
    {
     "name": "stdin",
     "output_type": "stream",
     "text": [
      "Enter a comma separated sequence:  Hello,what,are,you,doing\n"
     ]
    },
    {
     "data": {
      "text/plain": [
       "'are,doing,hello,what,you'"
      ]
     },
     "execution_count": 22,
     "metadata": {},
     "output_type": "execute_result"
    }
   ],
   "source": [
    "input_css = input('Enter a comma separated sequence: ')\n",
    "split_css = input_css.split(',')\n",
    "result = sorted(x.lower() for x in split_css)\n",
    "','.join(result)\n",
    "\n",
    "#Hello,what,are,you,doing"
   ]
  },
  {
   "cell_type": "markdown",
   "id": "171c3d90",
   "metadata": {},
   "source": [
    "### 4. Write a program that accepts a sequence of whitespace separated words as input and prints the words after removing all duplicate words and sorting them alphanumerically."
   ]
  },
  {
   "cell_type": "code",
   "execution_count": 25,
   "id": "365fa264-dd41-48fa-9586-a7e11db33e0d",
   "metadata": {},
   "outputs": [
    {
     "name": "stdin",
     "output_type": "stream",
     "text": [
      "Enter a sequence of whitespace separated words:  Hello Hello how are you\n"
     ]
    },
    {
     "name": "stdout",
     "output_type": "stream",
     "text": [
      "-----------------------------------\n",
      "Words after removing duplicates and sorting:\n",
      "Hello are how you\n"
     ]
    }
   ],
   "source": [
    "input_sequence = input(\"Enter a sequence of whitespace separated words: \")\n",
    "\n",
    "words = input_sequence.split()\n",
    "\n",
    "unique_words = sorted(set(words))\n",
    "\n",
    "print('-----------------------------------')\n",
    "print(\"Words after removing duplicates and sorting:\")\n",
    "print(' '.join(unique_words))\n"
   ]
  },
  {
   "cell_type": "markdown",
   "id": "88d25c49",
   "metadata": {},
   "source": [
    "### 5. Write a program that accepts a sentence and calculate the number of letters and digits."
   ]
  },
  {
   "cell_type": "code",
   "execution_count": 23,
   "id": "7d443e87-216c-4705-b8f9-36eec3f30a69",
   "metadata": {},
   "outputs": [
    {
     "name": "stdin",
     "output_type": "stream",
     "text": [
      "Enter a sentence:  Ketaki@123\n"
     ]
    },
    {
     "name": "stdout",
     "output_type": "stream",
     "text": [
      "Number of letters: 6\n",
      "Number of digits: 3\n"
     ]
    }
   ],
   "source": [
    "sentence = input(\"Enter a sentence: \")\n",
    "\n",
    "letter_count = 0\n",
    "digit_count = 0\n",
    "\n",
    "for char in sentence:\n",
    "    if char.isalpha():\n",
    "        letter_count += 1\n",
    "    elif char.isdigit():\n",
    "        digit_count += 1\n",
    "\n",
    "print(f\"Number of letters: {letter_count}\")\n",
    "print(f\"Number of digits: {digit_count}\")\n"
   ]
  },
  {
   "cell_type": "markdown",
   "id": "9695c4ca",
   "metadata": {},
   "source": [
    "### 6. A website requires the users to input username and password to register. Write a program to check the validity of password input by users."
   ]
  },
  {
   "cell_type": "code",
   "execution_count": 5,
   "id": "9d674482-e1f5-4081-9b5f-bc60689082d7",
   "metadata": {},
   "outputs": [
    {
     "name": "stdin",
     "output_type": "stream",
     "text": [
      "Enter your username:  Ketanki\n",
      "Enter your password:  Gargi@962325\n"
     ]
    },
    {
     "name": "stdout",
     "output_type": "stream",
     "text": [
      "Registration successful!\n"
     ]
    }
   ],
   "source": [
    "import re\n",
    "\n",
    "def is_valid_password(username, password):\n",
    "    if len(password) < 10:\n",
    "        return False, \"Password must be at least 8 characters long.\"\n",
    "    if not re.search(\"[0-9]\", password):\n",
    "        return False, \"Password must contain at least one digit.\"\n",
    "    if not re.search(\"[a-zA-Z]\", password):\n",
    "        return False, \"Password must contain at least one letter.\"\n",
    "    if password == username:\n",
    "        return False, \"Password cannot be the same as the username.\"   \n",
    "    return True, \"Password is valid.\"\n",
    "\n",
    "username = input(\"Enter your username: \")\n",
    "password = input(\"Enter your password: \")\n",
    "validity, message = is_valid_password(username, password)\n",
    "\n",
    "if validity:\n",
    "    print(\"Registration successful!\")\n",
    "else:\n",
    "    print(f\"Invalid password: {message}\")"
   ]
  },
  {
   "cell_type": "code",
   "execution_count": null,
   "id": "cfc184ed-35c2-4ca7-a2ba-9fb3cb6f87fe",
   "metadata": {},
   "outputs": [],
   "source": []
  }
 ],
 "metadata": {
  "kernelspec": {
   "display_name": "Python 3 (ipykernel)",
   "language": "python",
   "name": "python3"
  },
  "language_info": {
   "codemirror_mode": {
    "name": "ipython",
    "version": 3
   },
   "file_extension": ".py",
   "mimetype": "text/x-python",
   "name": "python",
   "nbconvert_exporter": "python",
   "pygments_lexer": "ipython3",
   "version": "3.12.0"
  }
 },
 "nbformat": 4,
 "nbformat_minor": 5
}
