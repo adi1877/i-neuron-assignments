{
 "cells": [
  {
   "cell_type": "markdown",
   "id": "9b304197",
   "metadata": {},
   "source": [
    "# Python Basic Programming Assignment 8"
   ]
  },
  {
   "cell_type": "markdown",
   "id": "22789ae6",
   "metadata": {},
   "source": [
    "### 1. Write a Python Program to Add Two Matrices?"
   ]
  },
  {
   "cell_type": "code",
   "execution_count": 11,
   "id": "901d0196-1650-43e8-9f91-33a1f387d389",
   "metadata": {},
   "outputs": [
    {
     "name": "stdout",
     "output_type": "stream",
     "text": [
      "[11, 10, 5]\n",
      "[11, 14, 10]\n",
      "[10, 14, 6]\n"
     ]
    }
   ],
   "source": [
    "a = [[2,2,3],\n",
    "    [4 ,9,6],\n",
    "    [7 ,8,5]]\n",
    "  \n",
    "b = [[9,8,2],\n",
    "    [7,5,4],\n",
    "    [3,6,1]]\n",
    "\n",
    "result = [[0,0,0],\n",
    "        [0,0,0],\n",
    "        [0,0,0]]\n",
    " \n",
    "for i in range(len(a)):\n",
    "    for j in range(len(b)):\n",
    "        result[i][j] = a[i][j] + b[i][j]\n",
    "\n",
    "for r in result:\n",
    "    print(r) "
   ]
  },
  {
   "cell_type": "markdown",
   "id": "044ceda6",
   "metadata": {},
   "source": [
    "### 2. Write a Python Program to Multiply Two Matrices?"
   ]
  },
  {
   "cell_type": "code",
   "execution_count": 14,
   "id": "2730b3b9-b5b4-4399-93dc-51a8800d17b6",
   "metadata": {},
   "outputs": [
    {
     "name": "stdout",
     "output_type": "stream",
     "text": [
      "[41 44 15]\n",
      "[117 113  50]\n",
      "[134 126  51]\n"
     ]
    }
   ],
   "source": [
    "import numpy as np\n",
    "a = [[2,2,3],\n",
    "    [4 ,9,6],\n",
    "    [7 ,8,5]]\n",
    "  \n",
    "b = [[9,8,2],\n",
    "    [7,5,4],\n",
    "    [3,6,1]]\n",
    "\n",
    "result = [[0,0,0],\n",
    "        [0,0,0],\n",
    "        [0,0,0]]\n",
    " \n",
    "result = np.dot(a,b)\n",
    "\n",
    "for r in result:\n",
    "    print(r) "
   ]
  },
  {
   "cell_type": "markdown",
   "id": "5f688e46",
   "metadata": {},
   "source": [
    "### 3. Write a Python Program to Transpose a Matrix?"
   ]
  },
  {
   "cell_type": "code",
   "execution_count": 19,
   "id": "564f4819-80e1-4806-88e4-c57aa0b4202b",
   "metadata": {},
   "outputs": [
    {
     "data": {
      "text/plain": [
       "array([[1, 3, 1],\n",
       "       [2, 4, 2],\n",
       "       [6, 8, 3]])"
      ]
     },
     "execution_count": 19,
     "metadata": {},
     "output_type": "execute_result"
    }
   ],
   "source": [
    "a=np.array([[1,2,6],\n",
    "            [3,4,8],\n",
    "            [1,2,3]])\n",
    "a.transpose()"
   ]
  },
  {
   "cell_type": "markdown",
   "id": "b2849025",
   "metadata": {},
   "source": [
    "\n",
    "### 4. Write a Python Program to Sort Words in Alphabetic Order?\n"
   ]
  },
  {
   "cell_type": "code",
   "execution_count": 27,
   "id": "d26b2650-d4de-4177-b083-01b5d69c0511",
   "metadata": {},
   "outputs": [
    {
     "name": "stdout",
     "output_type": "stream",
     "text": [
      "The sorted words are: \n",
      "is\n",
      "my\n",
      "name\n",
      "santosh\n",
      "zaware\n"
     ]
    }
   ],
   "source": [
    "my_str = \"My name is Santosh Zaware\"\n",
    "\n",
    "words=[word.lower() for word in my_str.split()]\n",
    "words.sort()\n",
    "\n",
    "print(\"The sorted words are: \")\n",
    "for word in words:\n",
    "    print(word)"
   ]
  },
  {
   "cell_type": "markdown",
   "id": "48ac7b24",
   "metadata": {},
   "source": [
    "### 5. Write a Python Program to Remove Punctuation From a String?"
   ]
  },
  {
   "cell_type": "code",
   "execution_count": 29,
   "id": "cf456053-905b-4799-84d3-947dfb00d94d",
   "metadata": {},
   "outputs": [
    {
     "name": "stdout",
     "output_type": "stream",
     "text": [
      "Hello This is mitzzz\n"
     ]
    },
    {
     "name": "stderr",
     "output_type": "stream",
     "text": [
      "<>:1: SyntaxWarning: invalid escape sequence '\\,'\n",
      "<>:1: SyntaxWarning: invalid escape sequence '\\,'\n",
      "C:\\Users\\santosh\\AppData\\Local\\Temp\\ipykernel_2508\\2434972062.py:1: SyntaxWarning: invalid escape sequence '\\,'\n",
      "  punctuations='''!()-[]{};:'\"\\,<>./?@#$%^&*_~'''\n"
     ]
    }
   ],
   "source": [
    "punctuations='''!()-[]{};:'\"\\,<>./?@#$%^&*_~'''\n",
    "my_str = \"Hello!! This is ***@mitzzz***\"\n",
    "no_punct=\"\"\n",
    "for char in my_str:\n",
    "    if char not in punctuations:\n",
    "        no_punct = no_punct + char\n",
    "print(no_punct)        "
   ]
  },
  {
   "cell_type": "code",
   "execution_count": null,
   "id": "eccc2ef2-f65a-4e6a-905e-b1e4fe185847",
   "metadata": {},
   "outputs": [],
   "source": []
  }
 ],
 "metadata": {
  "kernelspec": {
   "display_name": "Python 3 (ipykernel)",
   "language": "python",
   "name": "python3"
  },
  "language_info": {
   "codemirror_mode": {
    "name": "ipython",
    "version": 3
   },
   "file_extension": ".py",
   "mimetype": "text/x-python",
   "name": "python",
   "nbconvert_exporter": "python",
   "pygments_lexer": "ipython3",
   "version": "3.12.0"
  }
 },
 "nbformat": 4,
 "nbformat_minor": 5
}
