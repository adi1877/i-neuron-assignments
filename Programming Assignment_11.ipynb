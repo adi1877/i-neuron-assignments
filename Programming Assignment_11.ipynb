{
 "cells": [
  {
   "cell_type": "markdown",
   "id": "53c7e882",
   "metadata": {},
   "source": [
    "# Python Basic Programming Assignment 11\n",
    "--------------------"
   ]
  },
  {
   "cell_type": "markdown",
   "id": "051da140",
   "metadata": {},
   "source": [
    "### 1. Write a Python program to find words which are greater than given length k?"
   ]
  },
  {
   "cell_type": "code",
   "execution_count": 12,
   "id": "c0a25fdf-b881-430b-8f7b-79f763f85417",
   "metadata": {},
   "outputs": [
    {
     "name": "stdin",
     "output_type": "stream",
     "text": [
      "Enter length :  4\n"
     ]
    },
    {
     "name": "stdout",
     "output_type": "stream",
     "text": [
      "--------------------------------------------\n",
      "Ketaki\n",
      "Company\n",
      "Hello\n"
     ]
    }
   ],
   "source": [
    "num = int(input('Enter length : '))\n",
    "print('--------------------------------------------')\n",
    "words_list = ['Ketaki','Company','Hello','The']\n",
    "for words in words_list:\n",
    "    if len(words)>num:\n",
    "        print(words)"
   ]
  },
  {
   "cell_type": "markdown",
   "id": "26719cbd",
   "metadata": {},
   "source": [
    "### 2. Write a Python program for removing i-th character from a string?"
   ]
  },
  {
   "cell_type": "code",
   "execution_count": 25,
   "id": "e81d906a-4754-4946-8ec1-229e897bbd90",
   "metadata": {},
   "outputs": [
    {
     "data": {
      "text/plain": [
       "'Keaki'"
      ]
     },
     "execution_count": 25,
     "metadata": {},
     "output_type": "execute_result"
    }
   ],
   "source": [
    "def remove1(string, i): \n",
    "    a = string[: i-1] \n",
    "    b = string[i:] \n",
    "    return a + b \n",
    "\n",
    "remove1('Ketaki',3)"
   ]
  },
  {
   "cell_type": "markdown",
   "id": "51ae6b0f",
   "metadata": {},
   "source": [
    "### 3. Write a Python program to split and join a string?"
   ]
  },
  {
   "cell_type": "code",
   "execution_count": 2,
   "id": "222a0fa5-e716-422c-9209-d02108e5ca20",
   "metadata": {},
   "outputs": [
    {
     "name": "stdout",
     "output_type": "stream",
     "text": [
      "['Apples', 'Oranges', 'Pears', 'Bananas', 'Berries']\n",
      "Apples, Oranges, Pears, Bananas, Berries\n"
     ]
    }
   ],
   "source": [
    "my_string = \"Apples,Oranges,Pears,Bananas,Berries\"\n",
    "my_list = my_string.split(\",\")\n",
    "print(my_list)\n",
    "print(\", \".join(my_list))"
   ]
  },
  {
   "cell_type": "markdown",
   "id": "59079fe1",
   "metadata": {},
   "source": [
    "### 4. Write a Python program to check if a given string is binary string or not?"
   ]
  },
  {
   "cell_type": "code",
   "execution_count": 12,
   "id": "bb944bfb-44d3-4ea7-98b2-8a7b8511d25e",
   "metadata": {},
   "outputs": [
    {
     "name": "stdout",
     "output_type": "stream",
     "text": [
      "String is not binary\n",
      "String is binary\n"
     ]
    }
   ],
   "source": [
    "def binary(my_string):\n",
    "    p = set(my_string)\n",
    "    s = {'0','1'}\n",
    "    if (p == s) or (p == {0}) or (p == {1}) :\n",
    "        return 'String is binary'\n",
    "    else:\n",
    "        return 'String is not binary'\n",
    "        \n",
    "str1 = binary('Ketaki')\n",
    "str2 = binary('0100010')\n",
    "print(str1)\n",
    "print(str2)"
   ]
  },
  {
   "cell_type": "markdown",
   "id": "4d6cf11a",
   "metadata": {},
   "source": [
    "### 5. Write a Python program to find uncommon words from two Strings?"
   ]
  },
  {
   "cell_type": "code",
   "execution_count": 17,
   "id": "9390522b-37f6-4b9c-99e7-09a6d53063ae",
   "metadata": {},
   "outputs": [
    {
     "name": "stdout",
     "output_type": "stream",
     "text": [
      "{'t', 'K', 'G', 'g', 'l', 'd', 'k', 'e'}\n"
     ]
    }
   ],
   "source": [
    "set1 = set('Ketaki')\n",
    "set2 = set('Gadgil')\n",
    "print(set1.symmetric_difference(set2))"
   ]
  },
  {
   "cell_type": "markdown",
   "id": "97b86343-72ca-4ad4-868c-cc7bef511c04",
   "metadata": {},
   "source": [
    "### 6. Write a Python program to find duplicates from string"
   ]
  },
  {
   "cell_type": "code",
   "execution_count": 13,
   "id": "ac614735-3c5d-43cf-b8d6-610481b711b1",
   "metadata": {},
   "outputs": [
    {
     "name": "stdout",
     "output_type": "stream",
     "text": [
      "Duplicate characters: ['h', 'e', 'l']\n"
     ]
    }
   ],
   "source": [
    "def find_duplicate_characters(input_string):\n",
    "    char_frequency = {}\n",
    "\n",
    "    for char in input_string:\n",
    "        if char in char_frequency:\n",
    "            char_frequency[char] += 1\n",
    "        else:\n",
    "            char_frequency[char] = 1\n",
    "\n",
    "    duplicates = [char for char, freq in char_frequency.items() if freq > 1]\n",
    "\n",
    "    return duplicates\n",
    "\n",
    "input_str = \"hello there\"\n",
    "result = find_duplicate_characters(input_str)\n",
    "\n",
    "print(\"Duplicate characters:\", result)\n"
   ]
  },
  {
   "cell_type": "markdown",
   "id": "1a6af7e4",
   "metadata": {},
   "source": [
    "### 7. Write a Python Program to check if a string contains any special character?"
   ]
  },
  {
   "cell_type": "code",
   "execution_count": 17,
   "id": "68f526fd-71ef-40dd-8783-54f0d2192f5b",
   "metadata": {},
   "outputs": [
    {
     "name": "stdout",
     "output_type": "stream",
     "text": [
      "String does not contains special character\n",
      "String contains special character\n"
     ]
    }
   ],
   "source": [
    "def special_char(my_string):\n",
    "    for char in my_string:\n",
    "        if char in '!@#$%&*':\n",
    "            return 'String contains special character'\n",
    "    else:\n",
    "        return 'String does not contains special character' \n",
    "\n",
    "str1 = special_char('Ketaki')\n",
    "str2 = special_char('Ketaki@123')\n",
    "print(str1)\n",
    "print(str2)"
   ]
  },
  {
   "cell_type": "code",
   "execution_count": null,
   "id": "3f64159f-a0a1-4aff-8990-bd5b4d4baec3",
   "metadata": {},
   "outputs": [],
   "source": []
  }
 ],
 "metadata": {
  "kernelspec": {
   "display_name": "Python 3 (ipykernel)",
   "language": "python",
   "name": "python3"
  },
  "language_info": {
   "codemirror_mode": {
    "name": "ipython",
    "version": 3
   },
   "file_extension": ".py",
   "mimetype": "text/x-python",
   "name": "python",
   "nbconvert_exporter": "python",
   "pygments_lexer": "ipython3",
   "version": "3.11.4"
  }
 },
 "nbformat": 4,
 "nbformat_minor": 5
}
